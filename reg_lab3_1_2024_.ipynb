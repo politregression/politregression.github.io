{
  "nbformat": 4,
  "nbformat_minor": 0,
  "metadata": {
    "colab": {
      "provenance": []
    },
    "kernelspec": {
      "name": "python3",
      "display_name": "Python 3"
    },
    "language_info": {
      "name": "python"
    }
  },
  "cells": [
    {
      "cell_type": "markdown",
      "source": [
        "# <font color='black'> Регрессионный анализ: продолжение, 2024 </font>\n",
        "# <font color='black'>Практическое занятие 3 </font>\n",
        "\n",
        "\n",
        "## <font color='black'>Модель множественной линейной регрессии. Мультиколлинеарность </font>\n",
        "На этом занятии мы продолжим работать с данными из статьи [Kalenborn C., Lessman C., 2013](https://yadi.sk/i/nlEQUoWKiqY0UA). Одна из частей анализа в данной статье выполнена на основе cross-section data (использованы усредненные данные за 2005 - 2010 гг.). Авторы изучают взаимосвязь уровня коррупции и демократии, предполагая, что ее характер зависит от значений показателя свободы прессы. Кратко о данных:\n",
        "* cpi - уровень коррупции: Corruption Perception Index. Непрерывная шкала от 0 до 10, где 10 означает наиболее высокий уровень коррупции.\n",
        "* dem - индекс демократии: Vanhanen’s democratization index. Непрерывная шкала от 0 до 100, где 100 означает максимальное значение уровня демократии.\n",
        "* fp - свобода прессы: Freedom House. Приведен к непрерывной шкале от 0 до 100, где 100 - наиболее высокое значение свободы прессы.\n",
        "* loggdppc - натуральный логарифм ВВП на душу населения. World Bank.\n",
        "* stab - уровень политической стабильности. Индекс построен на основе показателей \"Political Stability\" и \"Absence of Violence/Terrorism\" из the Worldwide Governance Indicators. Непрерывная шкала от -2.5 до 2.5, где 2.5 соответствует наиболее высокому уровню политической стабильности.\n",
        "* britcol - дамми-переменная, где 1 - бывшая британская колония."
      ],
      "metadata": {
        "id": "6sBknKqhEsOr"
      }
    },
    {
      "cell_type": "code",
      "source": [
        "import pandas as pd\n",
        "import statsmodels.formula.api as smf\n",
        "import seaborn as sns\n",
        "import numpy as np\n",
        "import matplotlib.pyplot as mpl\n",
        "%matplotlib inline\n",
        "\n",
        "from statsmodels.stats.outliers_influence import variance_inflation_factor\n",
        "from statsmodels.tools.tools import add_constant\n",
        "\n",
        "from sklearn.decomposition import PCA\n",
        "from sklearn.preprocessing import StandardScaler\n",
        "!pip install bioinfokit\n",
        "from bioinfokit.visuz import cluster"
      ],
      "metadata": {
        "id": "68XxIJMwEzMK"
      },
      "execution_count": null,
      "outputs": []
    },
    {
      "cell_type": "markdown",
      "source": [
        "Откроем массив данных:"
      ],
      "metadata": {
        "id": "nlaWKKPOFSl0"
      }
    },
    {
      "cell_type": "code",
      "source": [
        "lab3 = pd.read_stata('lab1.dta')\n",
        "lab3 = lab3.dropna()"
      ],
      "metadata": {
        "id": "RHmN8aGCFWdy"
      },
      "execution_count": null,
      "outputs": []
    },
    {
      "cell_type": "markdown",
      "source": [
        "И оценим линейную множественную регрессионную модель с уже знакомой Вам спецификацией:"
      ],
      "metadata": {
        "id": "q9cdM9UGFX_y"
      }
    },
    {
      "cell_type": "code",
      "source": [
        "m1 = smf.ols(formula = \"cpi ~ dem + fp + loggdppc + britcol + stab\", data = lab3).fit()\n",
        "print(m1.summary())"
      ],
      "metadata": {
        "id": "Qvv1dDXSFk-5"
      },
      "execution_count": null,
      "outputs": []
    },
    {
      "cell_type": "markdown",
      "source": [
        "С точки зрения такого сюжета, как мультиколлинеарность, полезно будет посмотреть на то, насколько сильно связаны объясняющие переменные в модели. Выведем набор графиков, включающий и визуализацию распределений самих переменных (по главной диагонали), и диаграммы рассеяния."
      ],
      "metadata": {
        "id": "9WNniNmbFnhB"
      }
    },
    {
      "cell_type": "code",
      "source": [
        "sns.pairplot(lab3[[\"dem\", \"fp\", \"stab\", \"loggdppc\", \"britcol\"]])"
      ],
      "metadata": {
        "id": "0kpQPpNwGMx-"
      },
      "execution_count": null,
      "outputs": []
    },
    {
      "cell_type": "markdown",
      "source": [
        "Также ниже представим корреляционную матрицу для предикторов:"
      ],
      "metadata": {
        "id": "MIJ5Ao1uGYpK"
      }
    },
    {
      "cell_type": "code",
      "source": [
        "lab3[[\"dem\", \"fp\", \"stab\", \"loggdppc\", \"britcol\"]].corr().round(3)"
      ],
      "metadata": {
        "id": "wvBBlWnyGqAi"
      },
      "execution_count": null,
      "outputs": []
    },
    {
      "cell_type": "markdown",
      "source": [
        "Рассчитаем показатели variance inflation factor:"
      ],
      "metadata": {
        "id": "zw21tcpfNOda"
      }
    },
    {
      "cell_type": "code",
      "source": [
        "X = lab3[[\"dem\", \"fp\", \"stab\", \"loggdppc\", \"britcol\"]]\n",
        "X = add_constant(X)\n",
        "\n",
        "vif_data = pd.DataFrame({'variables':X.columns[1:], 'VIF':[variance_inflation_factor(X.values, i+1) for i in range(len(X.columns[1:]))]})\n",
        "print(vif_data)"
      ],
      "metadata": {
        "id": "2ZZg0q9iOskG"
      },
      "execution_count": null,
      "outputs": []
    },
    {
      "cell_type": "markdown",
      "source": [
        "Также для тренировки самостоятельно посчитаем VIF для показателя dem, построив предварительно соответствующую вспомогательную модель и выгрузив ее коэффициент детерминации:"
      ],
      "metadata": {
        "id": "ucIo93WsQtxG"
      }
    },
    {
      "cell_type": "code",
      "source": [
        "m1_aux = smf.ols(formula = \"dem ~ fp + loggdppc + britcol + stab\", data = lab3).fit()\n",
        "\n",
        "vif_dem = 1/(1-m1_aux.rsquared)\n",
        "print(vif_dem)"
      ],
      "metadata": {
        "id": "5yK5Z1_6RL6m"
      },
      "execution_count": null,
      "outputs": []
    },
    {
      "cell_type": "markdown",
      "source": [
        "Для лучшего понимания, как связаны $R^2$ из вспомогательной регрессионной модели и значения VIF, построим график:"
      ],
      "metadata": {
        "id": "ZDbuOsAeRXri"
      }
    },
    {
      "cell_type": "code",
      "source": [
        "rsquared = np.linspace(0, 0.99)\n",
        "VIF = 1/(1-rsquared)\n",
        "fig, axes = mpl.subplots()\n",
        "mpl.plot(rsquared, VIF, 'b')\n",
        "axes.set_xlabel('R-squared')\n",
        "axes.set_ylabel('VIF')\n",
        "mpl.title('The behaviour of VIF as a function of $R^2$')\n",
        "mpl.show()"
      ],
      "metadata": {
        "id": "VFFtRn4HRk1V"
      },
      "execution_count": null,
      "outputs": []
    },
    {
      "cell_type": "markdown",
      "source": [
        "Рассмотрим, что можно было бы сделать, если бы все-таки сильная мультиколлинеарность была обнаружена. Мы уже обсуждали, что в этом случае нам может помочь метод главных компонент. На основе исходных данных можно построить новые индексы - линейные комбинации стандартизированных показателей (объясняющих переменных). Главные компоненты будут нескоррелированны между собой."
      ],
      "metadata": {
        "id": "4xHuPMd3T747"
      }
    },
    {
      "cell_type": "markdown",
      "source": [
        "Возьмем за основу для тренировки такие достаточно сильно скоррелированные между собой предикторы, как dem, fp, stab, loggdppc.\n",
        "\n",
        "И для начала стандартизируем наши данные."
      ],
      "metadata": {
        "id": "mY8R1gHrVOnO"
      }
    },
    {
      "cell_type": "code",
      "source": [
        "pca_dta = lab3[[\"dem\", \"fp\", \"stab\", \"loggdppc\"]]\n",
        "pca_dta_stand =  StandardScaler().fit_transform(pca_dta)\n",
        "pca_dta_stand = pd.DataFrame(pca_dta_stand, columns=pca_dta.columns)\n",
        "pca_dta_stand.head(5)"
      ],
      "metadata": {
        "id": "2LUt-BgoVcyG"
      },
      "execution_count": null,
      "outputs": []
    },
    {
      "cell_type": "markdown",
      "source": [
        "Реализуем процедуру МГК и выведем значения информативности решения (сами значения вариаций, и для удобства долю общей вариации, объясняемую главными компонентами)"
      ],
      "metadata": {
        "id": "2XcZGLgbW0JD"
      }
    },
    {
      "cell_type": "code",
      "source": [
        "pca_results = PCA().fit(pca_dta_stand)\n",
        "\n",
        "print(pca_results.explained_variance_)\n",
        "print(pca_results.explained_variance_ratio_)"
      ],
      "metadata": {
        "id": "ekEqhmMkXWAc"
      },
      "execution_count": null,
      "outputs": []
    },
    {
      "cell_type": "markdown",
      "source": [
        "Визуализируем информативность решения на графике так называемой \"каменистой осыпи\".\n",
        "\n",
        "Примечание: график сохранится в отдельном файле screeplot.png."
      ],
      "metadata": {
        "id": "WQcfg1AGbT98"
      }
    },
    {
      "cell_type": "code",
      "source": [
        "pca_list = [\"PC\"+str(i+1) for i in range(len(pca_dta_stand.columns[0:]))]\n",
        "cluster.screeplot(obj=[pca_list, pca_results.explained_variance_ratio_])"
      ],
      "metadata": {
        "id": "BkeupEhNbfJp"
      },
      "execution_count": null,
      "outputs": []
    },
    {
      "cell_type": "markdown",
      "source": [
        "Представим отдельно веса, с которыми исходные стандартизированные показатели учитываются в главных компонентах:"
      ],
      "metadata": {
        "id": "4iCreDrSaXcu"
      }
    },
    {
      "cell_type": "code",
      "source": [
        "loadings = pca_results.components_\n",
        "pca_list = [\"PC\"+str(i+1) for i in range(len(pca_dta_stand.columns[0:]))]\n",
        "loadings = pd.DataFrame.from_dict(dict(zip(pca_list, loadings)))\n",
        "loadings['variable'] = pca_dta_stand.columns.values\n",
        "loadings = loadings.set_index('variable')\n",
        "print(loadings)"
      ],
      "metadata": {
        "id": "vytUXWjAalaS"
      },
      "execution_count": null,
      "outputs": []
    },
    {
      "cell_type": "markdown",
      "source": [
        "Если ГК интерпретируемые, Вы можете включить их вместо исходных показателей в регрессионную модель. Можно включить только первые несколько ГК (количество определяется на основе критерия Кайзера и графика каменистой осыпи, как мы уже обсудили), объясняющие наибольшую долю дисперсии исходных данных. Ниже покажем, как можно сохранить полученные ГК в исходном массиве данных:"
      ],
      "metadata": {
        "id": "9VsCb4e5dDAY"
      }
    },
    {
      "cell_type": "code",
      "source": [
        "PC = pca_results.transform(pca_dta_stand)\n",
        "lab3[\"PC1\"] = PC[:,0]\n",
        "lab3.head(5)\n"
      ],
      "metadata": {
        "collapsed": true,
        "id": "1ACYAXw8d2vW"
      },
      "execution_count": null,
      "outputs": []
    }
  ]
}