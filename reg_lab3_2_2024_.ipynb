{
  "nbformat": 4,
  "nbformat_minor": 0,
  "metadata": {
    "colab": {
      "provenance": []
    },
    "kernelspec": {
      "name": "python3",
      "display_name": "Python 3"
    },
    "language_info": {
      "name": "python"
    }
  },
  "cells": [
    {
      "cell_type": "code",
      "execution_count": null,
      "metadata": {
        "id": "Fa5l7-vwbmg5"
      },
      "outputs": [],
      "source": [
        "import pandas as pd\n",
        "import statsmodels.formula.api as smf\n",
        "from statsmodels.stats.outliers_influence import variance_inflation_factor\n",
        "from statsmodels.tools.tools import add_constant\n",
        "from sklearn.linear_model import Ridge\n",
        "from sklearn.model_selection import GridSearchCV\n",
        "from sklearn.model_selection import train_test_split\n",
        "from sklearn.metrics import mean_squared_error, r2_score"
      ]
    },
    {
      "cell_type": "code",
      "source": [
        "lab3_2 = pd.read_stata('lab3_2.dta')\n",
        "lab3_2 = lab3_2.dropna()"
      ],
      "metadata": {
        "id": "WPi8_Vv6b_wW"
      },
      "execution_count": null,
      "outputs": []
    },
    {
      "cell_type": "code",
      "source": [
        "m1 = smf.ols(formula = \"lngdp2 ~ va + rl + rq + gove + ps + cc\", data = lab3_2).fit()\n",
        "print(m1.summary())"
      ],
      "metadata": {
        "id": "vjvGbsQ1cNBG"
      },
      "execution_count": null,
      "outputs": []
    },
    {
      "cell_type": "code",
      "source": [
        "lab3_2[[\"va\", \"rl\", \"rq\", \"gove\", \"ps\", \"cc\"]].corr().round(3)"
      ],
      "metadata": {
        "id": "xDAgKsxUEAmM"
      },
      "execution_count": null,
      "outputs": []
    },
    {
      "cell_type": "code",
      "source": [
        "X = lab3_2[[\"va\", \"rl\", \"rq\", \"gove\", \"ps\", \"cc\"]]\n",
        "X = add_constant(X)\n",
        "\n",
        "vif_data = pd.DataFrame({'variables':X.columns[1:], 'VIF':[variance_inflation_factor(X.values, i+1) for i in range(len(X.columns[1:]))]})\n",
        "print(vif_data)"
      ],
      "metadata": {
        "id": "hgy-poo_cQB4"
      },
      "execution_count": null,
      "outputs": []
    },
    {
      "cell_type": "code",
      "source": [
        "train, test = train_test_split(lab3_2, test_size = 0.2, random_state = 1)"
      ],
      "metadata": {
        "id": "FQQMN5eQciW1"
      },
      "execution_count": null,
      "outputs": []
    },
    {
      "cell_type": "code",
      "source": [
        "ridge1 = Ridge(alpha = 1)\n",
        "ridge1.fit(train[[\"va\", \"rl\", \"rq\", \"gove\", \"ps\", \"cc\"]], train[\"lngdp2\"])\n",
        "ridge1.coef_"
      ],
      "metadata": {
        "id": "BJLFJJsvc1Sd"
      },
      "execution_count": null,
      "outputs": []
    },
    {
      "cell_type": "code",
      "source": [
        "y_pred = ridge1.predict(test[[\"va\", \"rl\", \"rq\", \"gove\", \"ps\", \"cc\"]])\n",
        "mean_squared_error(test[\"lngdp2\"], y_pred)"
      ],
      "metadata": {
        "id": "bKn4GQ8_dJeT"
      },
      "execution_count": null,
      "outputs": []
    },
    {
      "cell_type": "code",
      "source": [
        "r2_score(test[\"lngdp2\"], y_pred)"
      ],
      "metadata": {
        "id": "s2ZsCSw7d7bf"
      },
      "execution_count": null,
      "outputs": []
    },
    {
      "cell_type": "code",
      "source": [
        "alphas = [0.001, 0.01, 0.1, 1, 10, 100, 1000]\n",
        "\n",
        "grid_search = GridSearchCV(ridge1, {'alpha': alphas}, cv = 5)\n",
        "grid_search.fit(train[[\"va\", \"rl\", \"rq\", \"gove\", \"ps\", \"cc\"]], train[\"lngdp2\"])\n",
        "\n",
        "print(\"Best Regularization Parameter:\", grid_search.best_params_)"
      ],
      "metadata": {
        "id": "xq-nOoY4d2gT"
      },
      "execution_count": null,
      "outputs": []
    },
    {
      "cell_type": "code",
      "source": [
        "ridge2 = Ridge(alpha = 10)\n",
        "ridge2.fit(train[[\"va\", \"rl\", \"rq\", \"gove\", \"ps\", \"cc\"]], train[\"lngdp2\"])\n",
        "ridge2.coef_"
      ],
      "metadata": {
        "id": "vgHrBWeTegj8"
      },
      "execution_count": null,
      "outputs": []
    },
    {
      "cell_type": "code",
      "source": [
        "y_pred2 = ridge2.predict(test[[\"va\", \"rl\", \"rq\", \"gove\", \"ps\", \"cc\"]])\n",
        "mean_squared_error(test[\"lngdp2\"], y_pred2)"
      ],
      "metadata": {
        "id": "VK5m6XjsenuN"
      },
      "execution_count": null,
      "outputs": []
    },
    {
      "cell_type": "code",
      "source": [
        "r2_score(test[\"lngdp2\"], y_pred2)"
      ],
      "metadata": {
        "id": "a_nTjbDRev5r"
      },
      "execution_count": null,
      "outputs": []
    }
  ]
}