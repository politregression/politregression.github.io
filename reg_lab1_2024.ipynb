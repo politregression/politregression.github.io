{
  "cells": [
    {
      "cell_type": "markdown",
      "metadata": {
        "id": "ARHe0pXZhXrn"
      },
      "source": [
        "# <font color='black'>Регрессионный анализ: продолжение, 2024 </font>\n",
        "## <font color='black'>Практическое занятие 1 </font>\n",
        "В рамках данного практического занятия мы обратимся к данным из статьи [Kalenborn C., Lessman C., 2013](https://yadi.sk/i/nlEQUoWKiqY0UA). Одна из частей анализа в данной статье выполнена на основе cross-section data (использованы усредненные данные за 2005 - 2010 гг.). Возьмем такой массив, так как мы пока не знакомились с моделями для анализа панельных данных.\n",
        "\n",
        "Стоит отметить, что авторы изучают взаимосвязь уровня коррупции (является откликом в регрессионной модели) и демократии, предполагая, что ее характер зависит от значений показателя свободы прессы. Кратко о данных:\n",
        "* cpi - уровень коррупции: Corruption Perception Index. Приведен к непрерывной шкале от 0 до 10, где 10 означает наиболее высокий уровень коррупции.\n",
        "* dem - индекс демократии: Vanhanen’s democratization index. Непрерывная шкала от 0 до 100, где 100 означает максимальное значение уровня демократии.\n",
        "* fp - свобода прессы: Freedom House. Приведен к непрерывной шкале от 0 до 100, где 100 - наиболее высокое значение свободы прессы.\n",
        "* loggdppc - натуральный логарифм ВВП на душу населения: World Bank.\n",
        "* stab - уровень политической стабильности. Индекс построен на основе показателей \"Political Stability\" и \"Absence of Violence/Terrorism\" из the Worldwide Governance Indicators. Непрерывная шкала от -2.5 до 2.5, где 2.5 соответствует наиболее высокому уровню политической стабильности.\n",
        "* britcol - дамми-переменная, где 1 - бывшая британская колония."
      ]
    },
    {
      "cell_type": "code",
      "execution_count": null,
      "metadata": {
        "id": "PLsUSJt9hXrp"
      },
      "outputs": [],
      "source": [
        "import pandas as pd\n",
        "import statsmodels.api as sm\n",
        "import statsmodels.formula.api as smf\n",
        "from scipy import stats\n",
        "import seaborn as sns\n",
        "import numpy as np"
      ]
    },
    {
      "cell_type": "markdown",
      "metadata": {
        "id": "3fxatpdshXrp"
      },
      "source": [
        "Откроем массив данных для репликации результатов исследования: lab1.dta"
      ]
    },
    {
      "cell_type": "code",
      "execution_count": null,
      "metadata": {
        "id": "wsv5ss_3hXrp"
      },
      "outputs": [],
      "source": [
        "lab1 = pd.read_stata('lab1.dta')"
      ]
    },
    {
      "cell_type": "markdown",
      "metadata": {
        "id": "Rl_8cVzshXrp"
      },
      "source": [
        "Познакомимся с тем, как устроен массив данных."
      ]
    },
    {
      "cell_type": "code",
      "execution_count": null,
      "metadata": {
        "id": "cQubc9fChXrp"
      },
      "outputs": [],
      "source": [
        "lab1.head(10)"
      ]
    },
    {
      "cell_type": "markdown",
      "metadata": {
        "id": "Qhooh-ffhXrq"
      },
      "source": [
        "Ниже представим описательные статистики."
      ]
    },
    {
      "cell_type": "code",
      "execution_count": null,
      "metadata": {
        "id": "baXxXN-chXrq"
      },
      "outputs": [],
      "source": [
        "lab1.describe()"
      ]
    },
    {
      "cell_type": "markdown",
      "metadata": {
        "id": "yu3jgDfihXrq"
      },
      "source": [
        "Построим диаграмму рассеяния между зависимой переменной (cpi) и ключевым предиктором - уровнем демократии (dem). Что можно сказать про характер связи между коррупцией и демократией?"
      ]
    },
    {
      "cell_type": "code",
      "execution_count": null,
      "metadata": {
        "id": "3lklAunxhXrq"
      },
      "outputs": [],
      "source": [
        "sns.scatterplot(data = lab1, x = \"dem\", y = \"cpi\")"
      ]
    },
    {
      "cell_type": "markdown",
      "metadata": {
        "id": "ezN_WryQhXrq"
      },
      "source": [
        "Оценим первую регрессионную модель (m1). Это будет парная линейная регрессия: пока учитываем только ключевой предиктор - уровень демократии, контрольные переменные, предложенные авторами статьи, включим на следующем практическом занятии.\n",
        "\n",
        "Проинтерпретируйте полученные результаты."
      ]
    },
    {
      "cell_type": "code",
      "execution_count": null,
      "metadata": {
        "id": "aITOyQr8hXrq"
      },
      "outputs": [],
      "source": [
        "m1 = smf.ols(formula = \"cpi ~ dem\", data = lab1).fit()\n",
        "print(m1.summary())"
      ]
    },
    {
      "cell_type": "markdown",
      "metadata": {
        "id": "7CWfL0JDhXrr"
      },
      "source": [
        "Отдельно можно вывести вектор оценок параметров модели. Если хотите вывести оценку определенного параметра, то в квадратных скобках укажите его номер, не забываем, что в Python отсчет идет с 0, поэтому константе соответствует 0, а не 1."
      ]
    },
    {
      "cell_type": "code",
      "execution_count": null,
      "metadata": {
        "id": "5YzVDVb-hXrr"
      },
      "outputs": [],
      "source": [
        "m1.params.iloc[1]"
      ]
    },
    {
      "cell_type": "markdown",
      "metadata": {
        "id": "rmrQ-4tChXrr"
      },
      "source": [
        "Также можно вывести ковариационную матрицу оценок параметров. Какая информация в ней содержится? По главной диагонали - дисперсии оценок параметров, остальные элементы - ковариации между оценками коэффициентов (совместная изменчивость). Если взять квадратный корень элементов по главной диагонали, то получим стандартные ошибки оценок коэффициентов, которые нам пригодятся при проверке гипотезы о незначимости коэффициентов в регрессионной модели.    "
      ]
    },
    {
      "cell_type": "code",
      "execution_count": null,
      "metadata": {
        "id": "VbsmpG4WhXrr"
      },
      "outputs": [],
      "source": [
        "m1.cov_params()"
      ]
    },
    {
      "cell_type": "markdown",
      "metadata": {
        "id": "PUKbKEWFhXrr"
      },
      "source": [
        "Представим полученный объект как матрицу в Python, чтобы можно было обратиться к определенным элементам. И давайте посмотрим, как рассчитать p-value в случае проверки гипотезы о незначимости коэффициента при предикторе dem против двусторонней альтернативы.\n",
        "\n",
        "Статистика критерия рассчитывается следующим образом: $\\dfrac{\\hat{b}}{se}$. При верной нулевой гипотезе статистика имеет распределение Стьюдента с количеством степеней свободы равным $n-k=1$, где $k$ - количество предикторов в модели, не забываем про еще один параметр - это константа.\n",
        "\n",
        "Сделайте вывод на основе полученного p-value."
      ]
    },
    {
      "cell_type": "code",
      "execution_count": null,
      "metadata": {
        "id": "3_ZYLVMuhXrr"
      },
      "outputs": [],
      "source": [
        "Cov_m1 = np.asmatrix(m1.cov_params())\n",
        "stats.t.sf(abs(m1.params.iloc[1]/np.sqrt(Cov_m1[1,1])), m1.nobs - m1.df_model - 1)*2"
      ]
    },
    {
      "cell_type": "markdown",
      "metadata": {
        "id": "vMScTvEbhXrr"
      },
      "source": [
        "Для того же коэффициента построим 95%-ый доверительный интервал. В качестве отправной точки используем оценку соответствующего коэффициента $\\hat{\\beta}$ при dem. Также для того, чтобы задать границы, нам понадобится стандартная ошибка оценки коэффициента и критическая точка (квантиль по распределению Стьюдента уровня 0.975, $df = n - k - 1$).\n",
        "\n",
        "Проинтерпретируйте полученный доверительный интервал."
      ]
    },
    {
      "cell_type": "code",
      "execution_count": null,
      "metadata": {
        "id": "nfIzrtwqhXrr"
      },
      "outputs": [],
      "source": [
        "left_boundary = m1.params.iloc[1] - np.sqrt(Cov_m1[1,1])*stats.t.ppf(0.975, m1.nobs - m1.df_model - 1)\n",
        "right_boundary = m1.params.iloc[1] + np.sqrt(Cov_m1[1,1])*stats.t.ppf(0.975, m1.nobs - m1.df_model - 1)\n",
        "\n",
        "print(left_boundary.round(4), right_boundary.round(4))"
      ]
    },
    {
      "cell_type": "markdown",
      "source": [
        "Выведем также ANOVA-таблицу по результатам оцененной модели m1:"
      ],
      "metadata": {
        "id": "lV2GnUIgkVP6"
      }
    },
    {
      "cell_type": "code",
      "source": [
        "anova = sm.stats.anova_lm(m1)\n",
        "print(anova)"
      ],
      "metadata": {
        "id": "0ZN9qUBykbsT"
      },
      "execution_count": null,
      "outputs": []
    }
  ],
  "metadata": {
    "kernelspec": {
      "display_name": "Python 3 (ipykernel)",
      "language": "python",
      "name": "python3"
    },
    "language_info": {
      "codemirror_mode": {
        "name": "ipython",
        "version": 3
      },
      "file_extension": ".py",
      "mimetype": "text/x-python",
      "name": "python",
      "nbconvert_exporter": "python",
      "pygments_lexer": "ipython3",
      "version": "3.9.12"
    },
    "colab": {
      "provenance": []
    }
  },
  "nbformat": 4,
  "nbformat_minor": 0
}