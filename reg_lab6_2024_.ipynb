{
  "nbformat": 4,
  "nbformat_minor": 0,
  "metadata": {
    "colab": {
      "provenance": []
    },
    "kernelspec": {
      "name": "python3",
      "display_name": "Python 3"
    },
    "language_info": {
      "name": "python"
    }
  },
  "cells": [
    {
      "cell_type": "markdown",
      "source": [
        "# <font color='black'>Регрессионный анализ: продолжение, 2024 </font>\n",
        "## <font color='black'> Меры качества модели, сравнение альтернативных спецификаций </font>\n",
        "В рамках данного практического занятия мы продолжим работать с данными из статьи [Kalenborn C., Lessman C., 2013](https://yadi.sk/i/nlEQUoWKiqY0UA). Одна из частей анализа в данной статье выполнена на основе cross-section data (использованы усредненные данные за 2005 - 2010 гг.). Возьмем такой массив, так как мы пока не знакомились с моделями для анализа панельных данных.\n",
        "\n",
        "Стоит отметить, что авторы изучают взаимосвязь уровня коррупции (является откликом в регрессионной модели) и демократии, предполагая, что ее характер зависит от значений показателя свободы прессы. Мы протестируем данную гипотезу на практическом занятии 2, когда познакомимся с регрессионными моделями с переменными взаимодействия. Кратко о данных:\n",
        "* cpi - уровень коррупции: Corruption Perception Index. Приведен к непрерывной шкале от 0 до 10, где 10 означает наиболее высокий уровень коррупции.\n",
        "* dem - индекс демократии: Vanhanen’s democratization index. Непрерывная шкала от 0 до 100, где 100 означает максимальное значение уровня демократии.\n",
        "* fp - свобода прессы: Freedom House. Приведен к непрерывной шкале от 0 до 100, где 100 - наиболее высокое значение свободы прессы.\n",
        "* loggdppc - натуральный логарифм ВВП на душу населения: World Bank.\n",
        "* stab - уровень политической стабильности. Индекс построен на основе показателей \"Political Stability\" и \"Absence of Violence/Terrorism\" из the Worldwide Governance Indicators. Непрерывная шкала от -2.5 до 2.5, где 2.5 соответствует наиболее высокому уровню политической стабильности.\n",
        "* britcol - дамми-переменная, где 1 - бывшая британская колония."
      ],
      "metadata": {
        "id": "CTREtKplG1ma"
      }
    },
    {
      "cell_type": "code",
      "source": [
        "import pandas as pd\n",
        "import numpy as np\n",
        "import statsmodels.formula.api as smf\n",
        "from sklearn.model_selection import train_test_split\n",
        "from sklearn.metrics import mean_squared_error, r2_score\n",
        "from sklearn.model_selection import KFold\n",
        "from sklearn.linear_model import LinearRegression\n",
        "from statsmodels.stats.anova import anova_lm"
      ],
      "metadata": {
        "id": "7_h0iOKJHKDC"
      },
      "execution_count": null,
      "outputs": []
    },
    {
      "cell_type": "code",
      "source": [
        "lab1 = pd.read_stata('lab1.dta')\n",
        "lab1 = lab1.dropna()"
      ],
      "metadata": {
        "id": "ahcfjCFXJqjV"
      },
      "execution_count": null,
      "outputs": []
    },
    {
      "cell_type": "markdown",
      "source": [
        "Оценим две спецификации модели, вложенные друг в друга - они будут различаться на один параметр (коэффициент при переменной взаимодействия логарифма ВВП на душу населения и бывшей британской колонии). Проследим, как изменяются меры коэффициента детерминации и скорректированного коэффициента детерминации с добавлением предиктора."
      ],
      "metadata": {
        "id": "_oJKs0SyKPvQ"
      }
    },
    {
      "cell_type": "code",
      "source": [
        "m1 = smf.ols(formula = \"cpi ~ dem + fp + stab + loggdppc + britcol\", data = lab1).fit(cov_type = \"HC3\")\n",
        "print(m1.summary())"
      ],
      "metadata": {
        "id": "Dd5IyvhoK1zW"
      },
      "execution_count": null,
      "outputs": []
    },
    {
      "cell_type": "code",
      "source": [
        "m2 = smf.ols(formula = \"cpi ~ dem + fp + stab + loggdppc*britcol\", data = lab1).fit(cov_type = \"HC3\")\n",
        "print(m2.summary())"
      ],
      "metadata": {
        "id": "y-FvX2rRK9eg"
      },
      "execution_count": null,
      "outputs": []
    },
    {
      "cell_type": "code",
      "source": [
        "print(\"Model1 R-squared:\", m1.rsquared.round(3), \"Model1 R-squared adjusted:\", m1.rsquared_adj.round(3))\n",
        "print(\"Model2 R-squared:\", m2.rsquared.round(3), \"Model2 R-squared adjusted:\", m2.rsquared_adj.round(3))"
      ],
      "metadata": {
        "id": "IC5-RvbqPDCS"
      },
      "execution_count": null,
      "outputs": []
    },
    {
      "cell_type": "markdown",
      "source": [
        "В то время как $R^2$ увеличивается с добавлением новых предикторов или по крайней мере остается таким же, $R^2_{adj}$ может и уменьшиться (в случае добавленных незначимых предикторов). Для лучшего понимания выведем отдельно таблицу разложения вариации для m2."
      ],
      "metadata": {
        "id": "LXUYRljmORkp"
      }
    },
    {
      "cell_type": "code",
      "source": [
        "print(anova_lm(m2))"
      ],
      "metadata": {
        "id": "kAR9XZu-Odw4"
      },
      "execution_count": null,
      "outputs": []
    },
    {
      "cell_type": "markdown",
      "source": [
        "Мы уже обсуждали, что оцененная модель может хорошо объяснять вариацию отклика на обучающей выборке, но при этом плохо работать на данных, не участвовавших в обучении - то есть, тестовой выборке. Для того, чтобы определить, не сталкиваемся ли мы со случаем переобучения, мы разделим массив данных на обучающую и тестовую. Обучим модель m1 на 80% выборки. На тестовой выборке проследим меры качества модели."
      ],
      "metadata": {
        "id": "zByXCtb8TZ6s"
      }
    },
    {
      "cell_type": "code",
      "source": [
        "train, test = train_test_split(lab1, test_size = 0.2, random_state = 1)"
      ],
      "metadata": {
        "id": "JquNghVgVX0h"
      },
      "execution_count": null,
      "outputs": []
    },
    {
      "cell_type": "code",
      "source": [
        "X_train = train[[\"dem\", \"fp\", \"stab\", \"loggdppc\", \"britcol\"]]\n",
        "y_train = train[\"cpi\"]\n",
        "\n",
        "X_test = test[[\"dem\", \"fp\", \"stab\", \"loggdppc\", \"britcol\"]]\n",
        "y_test = test[\"cpi\"]"
      ],
      "metadata": {
        "id": "7nGCOAR9Vsiz"
      },
      "execution_count": null,
      "outputs": []
    },
    {
      "cell_type": "code",
      "source": [
        "m1.train = LinearRegression().fit(X_train, y_train)\n",
        "y_pred_train = m1.train.predict(X_train)\n",
        "R2_train = r2_score(y_train, y_pred_train)\n",
        "\n",
        "y_pred_test = m1.train.predict(X_test)\n",
        "R2_test = r2_score(y_test, y_pred_test)\n",
        "\n",
        "print(\"Training Sample R-squared:\", R2_train)\n",
        "print(\"Test Sample R-squared:\", R2_test)"
      ],
      "metadata": {
        "id": "I09G4MXgWZeb"
      },
      "execution_count": null,
      "outputs": []
    },
    {
      "cell_type": "markdown",
      "source": [
        "Для того, чтобы результаты были более обоснованы и не основывались лишь на одном разбиении массива на тестовую и обучающую выборки, используем k-блочную кросс-валидацию (поделим данные на 5 фолдов, проведем 5 итераций и усредним полученные результаты: на каждой итерации алгоритма модель обучается на 4 фолдах, тестируется на оставшейся 5-ой части выборки).  "
      ],
      "metadata": {
        "id": "o8ZlyXqScJsq"
      }
    },
    {
      "cell_type": "code",
      "source": [
        "X = lab1[[\"dem\", \"fp\", \"stab\", \"loggdppc\", \"britcol\"]]\n",
        "y = lab1[\"cpi\"]"
      ],
      "metadata": {
        "id": "DAEJIXUSepBt"
      },
      "execution_count": null,
      "outputs": []
    },
    {
      "cell_type": "code",
      "source": [
        "kf = KFold(n_splits=5, shuffle=True, random_state=1)\n",
        "R2 = []"
      ],
      "metadata": {
        "id": "Lre1dni1e2R8"
      },
      "execution_count": null,
      "outputs": []
    },
    {
      "cell_type": "code",
      "source": [
        "for fold, (train_index, test_index) in enumerate(kf.split(X)):\n",
        "    X_train, X_test = X.iloc[train_index], X.iloc[test_index]\n",
        "    y_train, y_test = y.iloc[train_index], y.iloc[test_index]\n",
        "\n",
        "    m1.cv = LinearRegression()\n",
        "    m1.cv.fit(X_train, y_train)\n",
        "\n",
        "    y_pred = m1.cv.predict(X_test)\n",
        "    r2 = r2_score(y_test, y_pred)\n",
        "    R2.append(r2)\n",
        "\n",
        "    print(\"Fold\", fold+1, \"R2:\", r2)\n",
        "\n",
        "average_R2 = sum(R2) / len(R2)\n",
        "print(\"Average R2:\", average_R2)"
      ],
      "metadata": {
        "id": "oEzy2JBTfTcH"
      },
      "execution_count": null,
      "outputs": []
    },
    {
      "cell_type": "markdown",
      "source": [
        "Сравним альтернативные спецификации моделей m3 и m4 при помощи информационных критериев AIC и BIC."
      ],
      "metadata": {
        "id": "DnT3wR5VrgxK"
      }
    },
    {
      "cell_type": "code",
      "source": [
        "m3 = smf.ols(formula = \"cpi ~ dem + stab + loggdppc + britcol\", data = lab1).fit(cov_type = \"HC3\")\n",
        "m4 = smf.ols(formula = \"cpi ~ dem + fp + stab + loggdppc\", data = lab1).fit(cov_type = \"HC3\")"
      ],
      "metadata": {
        "id": "czIelFN3rssN"
      },
      "execution_count": null,
      "outputs": []
    },
    {
      "cell_type": "code",
      "source": [
        "aic_m3 = m3.aic\n",
        "aic_m4 = m4.aic\n",
        "\n",
        "bic_m3 = m3.bic\n",
        "bic_m4 = m4.bic\n",
        "\n",
        "print(\"Model3 AIC:\", aic_m3.round(3), \"Model4 AIC:\", aic_m4.round(3))\n",
        "print(\"Model3 BIC:\", bic_m3.round(3), \"Model4 BIC:\", bic_m4.round(3))"
      ],
      "metadata": {
        "id": "ys7tbGKMsPok"
      },
      "execution_count": null,
      "outputs": []
    },
    {
      "cell_type": "code",
      "source": [
        "p = len(m3.params)\n",
        "LL = m3.llf\n",
        "aicm3 = 2*p - 2*LL\n",
        "aicm3"
      ],
      "metadata": {
        "id": "QqOmXP1DssHi"
      },
      "execution_count": null,
      "outputs": []
    },
    {
      "cell_type": "code",
      "source": [
        "bicm3 = np.log(len(lab1))*p - 2*LL\n",
        "bicm3"
      ],
      "metadata": {
        "id": "saib6FBqs7KM"
      },
      "execution_count": null,
      "outputs": []
    },
    {
      "cell_type": "markdown",
      "source": [
        "Для вложенных моделей мы можем использовать F-test:"
      ],
      "metadata": {
        "id": "2VPJ51I2tgwA"
      }
    },
    {
      "cell_type": "code",
      "source": [
        "anovaResults = anova_lm(m1, m2)\n",
        "print(anovaResults)"
      ],
      "metadata": {
        "id": "Py60Cz7stnSX"
      },
      "execution_count": null,
      "outputs": []
    }
  ]
}