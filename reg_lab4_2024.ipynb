{
  "cells": [
    {
      "cell_type": "markdown",
      "metadata": {
        "id": "I_SixRYeKDjb"
      },
      "source": [
        "# <font color='black'>Регрессионный анализ: продолжение, 2024 </font>\n",
        "## <font color='black'> Гетероскедастичность </font>\n",
        "В рамках данного практического занятия мы продолжим работать с данными из статьи [Kalenborn C., Lessman C., 2013](https://yadi.sk/i/nlEQUoWKiqY0UA). Одна из частей анализа в данной статье выполнена на основе cross-section data (использованы усредненные данные за 2005 - 2010 гг.). Возьмем такой массив, так как мы пока не знакомились с моделями для анализа панельных данных.\n",
        "\n",
        "Стоит отметить, что авторы изучают взаимосвязь уровня коррупции (является откликом в регрессионной модели) и демократии, предполагая, что ее характер зависит от значений показателя свободы прессы. Мы протестируем данную гипотезу на практическом занятии 2, когда познакомимся с регрессионными моделями с переменными взаимодействия. Кратко о данных:\n",
        "* cpi - уровень коррупции: Corruption Perception Index. Приведен к непрерывной шкале от 0 до 10, где 10 означает наиболее высокий уровень коррупции.\n",
        "* dem - индекс демократии: Vanhanen’s democratization index. Непрерывная шкала от 0 до 100, где 100 означает максимальное значение уровня демократии.\n",
        "* fp - свобода прессы: Freedom House. Приведен к непрерывной шкале от 0 до 100, где 100 - наиболее высокое значение свободы прессы.\n",
        "* loggdppc - натуральный логарифм ВВП на душу населения: World Bank.\n",
        "* stab - уровень политической стабильности. Индекс построен на основе показателей \"Political Stability\" и \"Absence of Violence/Terrorism\" из the Worldwide Governance Indicators. Непрерывная шкала от -2.5 до 2.5, где 2.5 соответствует наиболее высокому уровню политической стабильности.\n",
        "* britcol - дамми-переменная, где 1 - бывшая британская колония."
      ]
    },
    {
      "cell_type": "code",
      "execution_count": null,
      "metadata": {
        "id": "7Su83yqjKDjg"
      },
      "outputs": [],
      "source": [
        "import pandas as pd\n",
        "import statsmodels as sm\n",
        "import statsmodels.formula.api as smf\n",
        "from scipy import stats\n",
        "from scipy.stats import shapiro\n",
        "import seaborn as sns\n",
        "import numpy as np\n",
        "import matplotlib.pyplot as mpl\n",
        "\n",
        "from statsmodels.tools.tools import add_constant\n",
        "\n",
        "from statsmodels.stats.diagnostic import het_breuschpagan\n",
        "from statsmodels.stats.diagnostic import het_white\n",
        "from statsmodels.stats.diagnostic import het_goldfeldquandt\n",
        "\n",
        "from statsmodels.stats.outliers_influence import outlier_test"
      ]
    },
    {
      "cell_type": "markdown",
      "metadata": {
        "id": "drlgzo1LKDji"
      },
      "source": [
        "Откроем массив данных для репликации результатов исследования: lab1.dta"
      ]
    },
    {
      "cell_type": "code",
      "execution_count": null,
      "metadata": {
        "id": "a-6v4MieKDji"
      },
      "outputs": [],
      "source": [
        "lab1 = pd.read_stata('lab1.dta')\n",
        "lab1 = lab1.dropna()"
      ]
    },
    {
      "cell_type": "code",
      "execution_count": null,
      "metadata": {
        "scrolled": false,
        "id": "4qHqidcGKDjn"
      },
      "outputs": [],
      "source": [
        "m1 = smf.ols(formula = \"cpi ~ dem + fp + stab + loggdppc + britcol\", data = lab1).fit()\n",
        "print(m1.summary())"
      ]
    },
    {
      "cell_type": "markdown",
      "source": [
        "Проверим, можно ли говорить про гомоскедастичность (здравый смысл подсказывает, что надеяться не стоит), но тем не менее, реализуем определенные диагностики. Для начала построим график, показывающий, как связаны остатки в квадрате и одна из объясняющих переменных - к примеру, ключевой предиктор (dem)."
      ],
      "metadata": {
        "id": "b5HkvJh1RAtD"
      }
    },
    {
      "cell_type": "code",
      "source": [
        "fitted = m1.predict()\n",
        "residuals_sq = m1.resid**2\n",
        "fig, ax = mpl.subplots()\n",
        "sns.scatterplot(x = lab1['dem'], y = residuals_sq)\n",
        "ax.set_xlabel( \"Democracy\")\n",
        "ax.set_ylabel( \"Squared residuals\")"
      ],
      "metadata": {
        "id": "THAtbQmGRBmv"
      },
      "execution_count": null,
      "outputs": []
    },
    {
      "cell_type": "markdown",
      "metadata": {
        "id": "AR4zwc5WKDjq"
      },
      "source": [
        "Можно не рассматривать объясняющие переменные по отдельности, а  построить график, показывающий, как связаны остатки в квадрате и предсказанные значения по модели ($\\hat{y}$ как линейная комбинация предикторов)"
      ]
    },
    {
      "cell_type": "code",
      "execution_count": null,
      "metadata": {
        "scrolled": true,
        "id": "bDHiLspaKDjq"
      },
      "outputs": [],
      "source": [
        "fitted = m1.predict()\n",
        "residuals_sq = m1.resid**2\n",
        "fig, ax = mpl.subplots()\n",
        "sns.scatterplot(x = fitted, y = residuals_sq)\n",
        "ax.set_xlabel( \"Fitted values\")\n",
        "ax.set_ylabel( \"Squared residuals\")"
      ]
    },
    {
      "cell_type": "markdown",
      "metadata": {
        "id": "Ri-J2OsXKDjq"
      },
      "source": [
        "Есть и формальные тесты для проверки гипотезы о гомоскедастичности. К примеру, тест Бреуша-Пагана. Давайте его реализуем и проинтепретируем результаты на основе p-value."
      ]
    },
    {
      "cell_type": "code",
      "execution_count": null,
      "metadata": {
        "id": "JEY75f7HKDjq"
      },
      "outputs": [],
      "source": [
        "X = lab1[[\"dem\", \"fp\", \"stab\", \"loggdppc\", \"britcol\"]]\n",
        "X = add_constant(X)\n",
        "\n",
        "white_test = het_white(m1.resid, X)\n",
        "white_test\n",
        "\n",
        "stat, p_value = white_test[0:2]\n",
        "print(f'Statistic: {stat}, P-Value: {p_value}')"
      ]
    },
    {
      "cell_type": "code",
      "source": [
        "white_test1 = het_white(m1.resid, m1.model.exog)\n",
        "stat, p_value = white_test1[0:2]\n",
        "print(f'Statistic: {stat}, P-Value: {p_value}')"
      ],
      "metadata": {
        "id": "DwDNtISFhfkE"
      },
      "execution_count": null,
      "outputs": []
    },
    {
      "cell_type": "markdown",
      "source": [
        "Как мы уже обсуждали, можно использовать тест Бреуша-Пагана, предполагающий более экономную спецификацию вспомогательной модели (остатки в квадрате регрессируются на исходные объясняющие переменные, не учитываются квадратичные эффекты и совместные эффекты)."
      ],
      "metadata": {
        "id": "-3XkVav5jf0a"
      }
    },
    {
      "cell_type": "code",
      "source": [
        "bp_test = het_breuschpagan(m1.resid, m1.model.exog)\n",
        "stat, p_value = bp_test[0:2]\n",
        "print(f'Statistic: {stat}, P-Value: {p_value}')"
      ],
      "metadata": {
        "id": "Knsw7vPUkRyH"
      },
      "execution_count": null,
      "outputs": []
    },
    {
      "cell_type": "markdown",
      "source": [
        "Кроме этого, мы можем рассмотреть частный случай гетероскедастичности. Мы можем предположить, что вариация остатков монотонно возрастает/убывает с ростом предиктора. Для иллюстрации возьмем предиктор \"fp\"."
      ],
      "metadata": {
        "id": "iq1h0qUklwvu"
      }
    },
    {
      "cell_type": "markdown",
      "source": [
        "Только для начала проверим, можно ли считать распределение остатков нормальным."
      ],
      "metadata": {
        "id": "J5NvWW8eGP1o"
      }
    },
    {
      "cell_type": "code",
      "source": [
        "shapiro(m1.resid)"
      ],
      "metadata": {
        "id": "L5MGGG_lGJCf"
      },
      "execution_count": null,
      "outputs": []
    },
    {
      "cell_type": "code",
      "source": [
        "gq_test = het_goldfeldquandt(lab1.cpi, X, idx = 2, drop = 0.2, alternative = 'two-sided')\n",
        "stat, p_value, alternative = gq_test[0:3]\n",
        "print(f'Statistic: {stat}, P-Value: {p_value}, alternative: {alternative}')"
      ],
      "metadata": {
        "id": "E-dZazJGmw8z"
      },
      "execution_count": null,
      "outputs": []
    },
    {
      "cell_type": "markdown",
      "metadata": {
        "id": "_lDTSEVRKDjr"
      },
      "source": [
        "Переоценим модель с робастными стандартными ошибками (HC3)."
      ]
    },
    {
      "cell_type": "code",
      "execution_count": null,
      "metadata": {
        "id": "ZXBlWQwbKDjr"
      },
      "outputs": [],
      "source": [
        "m1_1 = smf.ols(formula = \"cpi ~ dem + fp + stab + loggdppc + britcol\", data = lab1).fit(cov_type = \"HC3\")\n",
        "print(m1_1.summary())"
      ]
    },
    {
      "cell_type": "markdown",
      "source": [
        "Проверим, есть ли в нашем массиве нетипичные наблюдения. Для начала рассмотрим нетипичные наблюдения по предикторам."
      ],
      "metadata": {
        "id": "L57egSUgG2HF"
      }
    },
    {
      "cell_type": "code",
      "source": [
        "leverage = m1_1.get_influence().hat_matrix_diag\n",
        "\n",
        "leverage_data = lab1[leverage > 2*np.mean(leverage)]\n",
        "leverage_data"
      ],
      "metadata": {
        "id": "6PqtzzrsAwEf"
      },
      "execution_count": null,
      "outputs": []
    },
    {
      "cell_type": "markdown",
      "source": [
        "Посмотрим, как обстоят дела с outliers (нетипичные наблюдения по y)."
      ],
      "metadata": {
        "id": "NoPxVP8zHS4c"
      }
    },
    {
      "cell_type": "code",
      "source": [
        "student_resid = outlier_test(m1_1).iloc[:, 0]\n",
        "student_resid\n",
        "\n",
        "outlier_data = lab1[np.abs(student_resid) > 3]\n",
        "outlier_data"
      ],
      "metadata": {
        "id": "B0Hbw91cICp1"
      },
      "execution_count": null,
      "outputs": []
    },
    {
      "cell_type": "markdown",
      "source": [
        "Диагностируем, есть ли влиятельные наблюдения, используя как меру DFBETA (в данном случае для параметра при dem), так и меру Кука."
      ],
      "metadata": {
        "id": "vqCnfAlwMRLj"
      }
    },
    {
      "cell_type": "code",
      "source": [
        "dfbetas = m1_1.get_influence().dfbetas"
      ],
      "metadata": {
        "id": "h3m6W8rsxpNI"
      },
      "execution_count": null,
      "outputs": []
    },
    {
      "cell_type": "code",
      "source": [
        "coef_index = 1\n",
        "lab1['dfbetas_dem'] = np.abs(dfbetas[:, coef_index])\n",
        "\n",
        "dfbeta_dem_data = lab1[np.abs(dfbetas[:, coef_index]) > 2 / np.sqrt(len(lab1))]\n",
        "\n",
        "dfbeta_dem_data_ordered = dfbeta_dem_data.sort_values('dfbetas_dem', ascending = False)\n",
        "dfbeta_dem_data_ordered\n"
      ],
      "metadata": {
        "id": "9SOOYc-stPBO"
      },
      "execution_count": null,
      "outputs": []
    },
    {
      "cell_type": "code",
      "source": [
        "cooks_dist = m1_1.get_influence().cooks_distance[0]\n",
        "cooks_dist\n",
        "\n",
        "lab1['cooks_dist'] = cooks_dist\n",
        "\n",
        "influential_obs = lab1[cooks_dist > 4 / len(lab1)]\n",
        "\n",
        "influential_obs_ordered = influential_obs.sort_values('cooks_dist', ascending = False)\n",
        "influential_obs_ordered"
      ],
      "metadata": {
        "id": "wdibPynjzbm8"
      },
      "execution_count": null,
      "outputs": []
    }
  ],
  "metadata": {
    "kernelspec": {
      "display_name": "Python 3 (ipykernel)",
      "language": "python",
      "name": "python3"
    },
    "language_info": {
      "codemirror_mode": {
        "name": "ipython",
        "version": 3
      },
      "file_extension": ".py",
      "mimetype": "text/x-python",
      "name": "python",
      "nbconvert_exporter": "python",
      "pygments_lexer": "ipython3",
      "version": "3.9.12"
    },
    "colab": {
      "provenance": []
    }
  },
  "nbformat": 4,
  "nbformat_minor": 0
}